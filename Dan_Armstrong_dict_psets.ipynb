{
  "nbformat": 4,
  "nbformat_minor": 0,
  "metadata": {
    "colab": {
      "name": "Dan Armstrong dict_psets.ipynb",
      "provenance": [],
      "collapsed_sections": [
        "_yv4DI9GSU01",
        "CD6sOl1NSlUd",
        "KbjvMBP_SN8W",
        "U32QUUqHSN8b"
      ],
      "toc_visible": true,
      "include_colab_link": true
    },
    "kernelspec": {
      "name": "python3",
      "display_name": "Python 3"
    }
  },
  "cells": [
    {
      "cell_type": "markdown",
      "metadata": {
        "id": "view-in-github",
        "colab_type": "text"
      },
      "source": [
        "<a href=\"https://colab.research.google.com/github/Denko/PYTH225/blob/master/Dan_Armstrong_dict_psets.ipynb\" target=\"_parent\"><img src=\"https://colab.research.google.com/assets/colab-badge.svg\" alt=\"Open In Colab\"/></a>"
      ]
    },
    {
      "cell_type": "markdown",
      "metadata": {
        "id": "hIHgBfgSSN8D",
        "colab_type": "text"
      },
      "source": [
        "#  DICTS\n",
        "\n",
        "\n",
        "\n"
      ]
    },
    {
      "cell_type": "markdown",
      "metadata": {
        "id": "_yv4DI9GSU01",
        "colab_type": "text"
      },
      "source": [
        "## BASICS\n"
      ]
    },
    {
      "cell_type": "markdown",
      "metadata": {
        "id": "YXndgQTcSWCF",
        "colab_type": "text"
      },
      "source": [
        "### P1.PY"
      ]
    },
    {
      "cell_type": "code",
      "metadata": {
        "id": "sycqY3FhSN8E",
        "colab_type": "code",
        "outputId": "c1f530a6-08d4-4f42-eaba-cb858d221be2",
        "colab": {
          "base_uri": "https://localhost:8080/",
          "height": 124
        }
      },
      "source": [
        "\"\"\"\n",
        "Intro to Dict Concepts\n",
        "\"\"\"\n",
        "\n",
        "# A) Declare an empty dict as d1.\n",
        "d1 = {}\n",
        "\n",
        "# B) Create a dict called d2 containing the first and last names below:\n",
        "# Anthony Paollelo, Ping Qiao, Enrique Alvarez, Arjun Dhir \n",
        "d2 = {\"Anthony\":\"Paolleo\",\"Ping\":\"Qiao\",\"Enrique\":\"Alvarez\",\"Arjun\":\"Dhir\"}\n",
        "\n",
        "print(d2)\n",
        "# C) Add Allison Zhang person to d2.\n",
        "\n",
        "d2[\"Allison\"] = \"Zhang\"\n",
        "print(d2)\n",
        "\n",
        "# D) How many people are now in d2? Print out all their *first* names in the vars below.\n",
        "\n",
        "num_people = len(d2)\n",
        "print(num_people)\n",
        "### num_people = \n",
        "\n",
        "\n",
        "### first_names = \n",
        "print(d2.keys())\n",
        "\n",
        "# E) Delete a random person from d2 and print his/her name in the var below.\n",
        "\n",
        "x = d2.popitem()\n",
        "print(x)\n",
        "\n",
        "\n",
        "# F) Re-add the name you deleted to the end of d2.\n",
        "\n",
        "d2.update({x[0]: x[1]})\n",
        "print(d2)\n",
        "\n",
        "\n"
      ],
      "execution_count": 0,
      "outputs": [
        {
          "output_type": "stream",
          "text": [
            "{'Anthony': 'Paolleo', 'Ping': 'Qiao', 'Enrique': 'Alvarez', 'Arjun': 'Dhir'}\n",
            "{'Anthony': 'Paolleo', 'Ping': 'Qiao', 'Enrique': 'Alvarez', 'Arjun': 'Dhir', 'Allison': 'Zhang'}\n",
            "5\n",
            "dict_keys(['Anthony', 'Ping', 'Enrique', 'Arjun', 'Allison'])\n",
            "('Allison', 'Zhang')\n",
            "{'Anthony': 'Paolleo', 'Ping': 'Qiao', 'Enrique': 'Alvarez', 'Arjun': 'Dhir', 'Allison': 'Zhang'}\n"
          ],
          "name": "stdout"
        }
      ]
    },
    {
      "cell_type": "markdown",
      "metadata": {
        "id": "vGjiwyuNSN8H",
        "colab_type": "text"
      },
      "source": [
        "\n",
        "\n",
        "### P2.PY\n",
        "\n",
        "\n"
      ]
    },
    {
      "cell_type": "code",
      "metadata": {
        "id": "0vq219wISN8J",
        "colab_type": "code",
        "outputId": "72d7ee79-4979-4a38-fa59-821d89eb6958",
        "colab": {
          "base_uri": "https://localhost:8080/",
          "height": 108
        }
      },
      "source": [
        "\"\"\"\n",
        "Predators & Prey\n",
        "\"\"\"\n",
        "\n",
        "# A) Create a dict called \"pred_prey\", containing:\n",
        "### 3 carnivorous marine animals\n",
        "### For each carnivore, 3 examples of its prey\n",
        "\n",
        "pred_prey = {'barracuda':['toothfish','herring','grouper'],'giant squid':['smaller squid','small whales','toothfish'],'Bruce the shark':['Robert Shaw','skinny dippers','small boats']}\n",
        "print(pred_prey)\n",
        "\n",
        "\n",
        "# B) Print out the 2nd predator and its prey in this format:\n",
        "#### predator2: prey1, prey2, prey3\n",
        "\n",
        "string = 'giant squid: '\n",
        "for prey in pred_prey['giant squid']:\n",
        "  string += \"prey', '\"\n",
        "\n",
        "print(string)\n",
        "\n",
        "\n",
        "\n",
        "\n",
        "# C) Print a unique collection of all the prey in a variable called \"prey\".\n",
        "\n",
        "Lots_of_prey = []\n",
        "for predator, prey in pred_prey.items():\n",
        "  Lots_of_prey.extend(prey)\n",
        "\n",
        "print(Lots_of_prey)\n",
        "print(set(Lots_of_prey))\n",
        "\n",
        "\n"
      ],
      "execution_count": 0,
      "outputs": [
        {
          "output_type": "stream",
          "text": [
            "{'barracuda': ['toothfish', 'herring', 'grouper'], 'giant squid': ['smaller squid', 'small whales', 'toothfish'], 'Bruce the shark': ['Robert Shaw', 'skinny dippers', 'small boats']}\n",
            "giant squid: prey', 'prey', 'prey', '\n",
            "['toothfish', 'herring', 'grouper', 'smaller squid', 'small whales', 'toothfish', 'Robert Shaw', 'skinny dippers', 'small boats']\n",
            "{'smaller squid', 'herring', 'Robert Shaw', 'grouper', 'small boats', 'skinny dippers', 'small whales', 'toothfish'}\n"
          ],
          "name": "stdout"
        }
      ]
    },
    {
      "cell_type": "markdown",
      "metadata": {
        "id": "2n4lE5O2SN8N",
        "colab_type": "text"
      },
      "source": [
        "\n",
        "\n",
        "### P3.PY\n",
        "\n",
        "\n"
      ]
    },
    {
      "cell_type": "code",
      "metadata": {
        "id": "7mg1LKIdSN8O",
        "colab_type": "code",
        "outputId": "9d79f9b8-69aa-4c57-c7ef-f7732c868d40",
        "colab": {
          "base_uri": "https://localhost:8080/",
          "height": 35
        }
      },
      "source": [
        "\"\"\"\n",
        "Merging Dicts\n",
        "\"\"\"\n",
        "\n",
        "# Merge these two dicts without creating a new one.\n",
        "\n",
        "d1 = {'a': 100, 'b': 200}\n",
        "d2 = {'c': 300, 'd': 400, 'e': 500}\n",
        "\n",
        "d1.update(d2)\n",
        "print(d1)"
      ],
      "execution_count": 0,
      "outputs": [
        {
          "output_type": "stream",
          "text": [
            "{'a': 100, 'b': 200, 'c': 300, 'd': 400, 'e': 500}\n"
          ],
          "name": "stdout"
        }
      ]
    },
    {
      "cell_type": "markdown",
      "metadata": {
        "id": "pPpGZbyBSN8Q",
        "colab_type": "text"
      },
      "source": [
        "\n",
        "\n",
        "### P4.PY\n",
        "\n",
        "\n"
      ]
    },
    {
      "cell_type": "code",
      "metadata": {
        "id": "HLyWTctsSN8R",
        "colab_type": "code",
        "outputId": "0120b01b-b1d4-4ab5-d429-53d2d6e7f9bb",
        "colab": {
          "base_uri": "https://localhost:8080/",
          "height": 35
        }
      },
      "source": [
        "\"\"\"\n",
        "Lists to Dicts\n",
        "\"\"\"\n",
        "\n",
        "# Turn these two lists into a dict called grades.\n",
        "\n",
        "names = ['Taq', 'Zola', 'Valerie', 'Valerie']\n",
        "scores = [[98, 89, 92, 94], [86, 45, 98, 100], [100, 100, 100, 100], [76, 79, 80, 82]]\n",
        "\n",
        "new_dict = {}\n",
        "for key in names:\n",
        "    for value in scores: \n",
        "        new_dict[key] = value \n",
        "        scores.remove(value) \n",
        "        break  \n",
        "  \n",
        "# Printing resultant dictionary  \n",
        "print (str(new_dict)) "
      ],
      "execution_count": 0,
      "outputs": [
        {
          "output_type": "stream",
          "text": [
            "{'Taq': [98, 89, 92, 94], 'Zola': [86, 45, 98, 100], 'Valerie': [76, 79, 80, 82]}\n"
          ],
          "name": "stdout"
        }
      ]
    },
    {
      "cell_type": "markdown",
      "metadata": {
        "id": "j2WZlr4aSN8T",
        "colab_type": "text"
      },
      "source": [
        "## DICT MANIPULATION\n",
        "\n"
      ]
    },
    {
      "cell_type": "markdown",
      "metadata": {
        "id": "CD6sOl1NSlUd",
        "colab_type": "text"
      },
      "source": [
        "### P1.PY"
      ]
    },
    {
      "cell_type": "code",
      "metadata": {
        "id": "kevedbhjSN8U",
        "colab_type": "code",
        "outputId": "8c484e7a-b5b7-4d60-adc5-fe058889ba48",
        "colab": {
          "base_uri": "https://localhost:8080/",
          "height": 35
        }
      },
      "source": [
        "\"\"\"\n",
        "Basic Login\n",
        "\"\"\"\n",
        "\n",
        "# Imagine you work for a movie streaming service. You're in charge of safeguarding user privacy by ensuring the login feature remains secure. For the sake of example only, below is the dict of user login info. Normally, you wouldn't have access to see this unencrypted of course!\n",
        "\n",
        "users = {\n",
        "\t'person@email.com': 'PassWord',\n",
        "\t'someone@email.com': 'hiitsme',\n",
        "\t'me@email.com': 'myPassword',\n",
        "\t'anyone@email.com': 'IMawesome',\n",
        "\t'guy@email.com': 'pa$$wordz'\n",
        "\t# etc\n",
        "}\n",
        "\n",
        "# A user enters the below login info (email and password) for your app. Search your database of user logins to see if this account exists and if the password matches what you have on file. If the login credentials are correct, print \"Successful login!\". Otherwise, print \"The login info you entered does not match any of our records.\"\n",
        "\n",
        "current_user = { 'me@email.com': 'myPassword' }\n",
        "\n",
        "x = current_user.get('me@email.com')\n",
        "y = users.get('me@email.com')\n",
        "if x == y:\n",
        "\tprint(\"Welcome!\")\n",
        "else:\n",
        "\tprint(\"Your password is not recognized\")\n",
        "\n",
        "user_list=list(current_user.values())\n",
        "password = user_list[0]\n",
        "\n"
      ],
      "execution_count": 0,
      "outputs": [
        {
          "output_type": "stream",
          "text": [
            "Welcome!\n"
          ],
          "name": "stdout"
        }
      ]
    },
    {
      "cell_type": "markdown",
      "metadata": {
        "id": "nHqm3s28-ctG",
        "colab_type": "text"
      },
      "source": [
        ""
      ]
    },
    {
      "cell_type": "markdown",
      "metadata": {
        "id": "KbjvMBP_SN8W",
        "colab_type": "text"
      },
      "source": [
        "\n",
        "\n",
        "### P2.PY\n",
        "\n",
        "\n"
      ]
    },
    {
      "cell_type": "code",
      "metadata": {
        "id": "SjdXQ_MiSN8X",
        "colab_type": "code",
        "outputId": "97bd59e0-75f5-40cc-ecfa-bf612bf61645",
        "colab": {
          "base_uri": "https://localhost:8080/",
          "height": 124
        }
      },
      "source": [
        "\"\"\"\n",
        "Math with Girl Scout Cookies\n",
        "\"\"\"\n",
        "\n",
        "# Print out the number of boxes of girl scout cookies that each girl in the troop sold in the below format:\n",
        "\t# Wendy: _____\n",
        "\t# Connie: _____\n",
        "\t# Francesca: _____\n",
        "\n",
        "Wendy = {'tagalongs': 5, 'thin mints': 12, 'samoas': 8}\n",
        "Connie = {'tagalongs': 10, 'thin mints': 4, 'samoas': 12}\n",
        "Francesca = {'tagalongs': 18, 'thin mints': 14, 'samoas': 10}\n",
        "\n",
        "salesW = sum(Wendy.values())\n",
        "salesC =  sum(Connie.values())\n",
        "salesF =  sum(Francesca.values())\n",
        "\n",
        "print('Wendy: ',salesW,\" boxes sold\")\n",
        "print('Connie: ',salesC,\" boxes sold\")\n",
        "print('Francesca: ',salesF,\" boxes sold\")\n",
        "\n",
        "# For each type of girl scout cookie, print out the total number of boxes sold in the below format:\n",
        "\n",
        "tagalongsW = Wendy.get('tagalongs')\n",
        "tagalongsC = Connie.get('tagalongs')\n",
        "tagalongsF = Francesca.get('tagalongs')\n",
        "total_tagalongs = tagalongsW + tagalongsC + tagalongsF\n",
        "\n",
        "thin_mintsW = Wendy.get('thin mints')\n",
        "thin_mintsC = Connie.get('thin mints')\n",
        "thin_mintsF = Francesca.get('thin mints')\n",
        "total_thin_mints = thin_mintsW + thin_mintsC + thin_mintsF\n",
        "\n",
        "samoasW = Wendy.get('samoas')\n",
        "samoasC = Connie.get('samoas')\n",
        "samoasF = Francesca.get('samoas')\n",
        "total_samoas = samoasW + samoasC + samoasF\n",
        "\n",
        "print(total_tagalongs,\" boxes of tagalongs sold.\")\n",
        "print(total_thin_mints,\" boxes of thin mints sold.\")\n",
        "print(total_samoas,\" boxes of samoas sold.\")\n",
        "\n",
        "#  for tagalongs in Wendy}\n",
        "\n",
        "\t# tagalongs: _____\n",
        "\t# thin mints: _____\n",
        "\t# samoas: _____\n",
        "\n",
        "### total_tagalongs = \n",
        "### total_thinmints = \n",
        "### total_samoas = \n",
        "\n",
        "\n",
        "# For each type of girl scout cookie, print out the average number of boxes sold in the below format:\n",
        "\t# tagalongs: _____\n",
        "\t# thin mints: _____\n",
        "\t# samoas: _____\n",
        "\n",
        "### avg_tagalongs = \n",
        "### avg_thinmints = \n",
        "### avg_samoas = \n",
        "\n",
        "# Print out total the number of boxes of cookies the girls sold collectively as follows:\n",
        "\t# \"This year we sold ______ boxes!\"\n",
        "\n",
        "### boxes_sold = "
      ],
      "execution_count": 0,
      "outputs": [
        {
          "output_type": "stream",
          "text": [
            "Wendy:  25  boxes sold\n",
            "Connie:  26  boxes sold\n",
            "Francesca:  42  boxes sold\n",
            "33  boxes of tagalongs sold.\n",
            "30  boxes of thin mints sold.\n",
            "30  boxes of samoas sold.\n"
          ],
          "name": "stdout"
        }
      ]
    },
    {
      "cell_type": "markdown",
      "metadata": {
        "id": "U32QUUqHSN8b",
        "colab_type": "text"
      },
      "source": [
        "\n",
        "\n",
        "### P3.PY\n",
        "\n",
        "\n"
      ]
    },
    {
      "cell_type": "code",
      "metadata": {
        "id": "UfPFoSqGSN8d",
        "colab_type": "code",
        "outputId": "445256db-a861-4532-d431-7d4ea49cb74c",
        "colab": {
          "base_uri": "https://localhost:8080/",
          "height": 52
        }
      },
      "source": [
        "\"\"\"\n",
        "Inverting Keys & Values\n",
        "\"\"\"\n",
        "\n",
        "# Invert dict1 - make the current keys into values and the current values into keys.\n",
        "\n",
        "\n",
        "dict1 = { \"k1\" : \"v1\", \"k2\" : \"v2\", \"k3\" : \"v1\" }\n",
        "inverted_dict1 = dict(map(reversed, dict1.items()))\n",
        "print(inverted_dict1)\n",
        "\n",
        "inverted_dict1 = dict()\n",
        "for key, value in dict1.items():\n",
        "    inverted_dict1.setdefault(value, list()).append(key)\n",
        "print(inverted_dict1)\n",
        "\n",
        "\n"
      ],
      "execution_count": 0,
      "outputs": [
        {
          "output_type": "stream",
          "text": [
            "{'v1': 'k3', 'v2': 'k2'}\n",
            "{'v1': ['k1', 'k3'], 'v2': ['k2']}\n"
          ],
          "name": "stdout"
        }
      ]
    },
    {
      "cell_type": "markdown",
      "metadata": {
        "id": "1Z5ZE-l3T-Zs",
        "colab_type": "text"
      },
      "source": [
        "## DICT LOOPS\n",
        "\n",
        "\n"
      ]
    },
    {
      "cell_type": "markdown",
      "metadata": {
        "id": "qOHH_tdgUIzl",
        "colab_type": "text"
      },
      "source": [
        "### P1.PY"
      ]
    },
    {
      "cell_type": "code",
      "metadata": {
        "id": "VAvRbaZiT-Zt",
        "colab_type": "code",
        "outputId": "5acd9ea9-a73b-4d92-c9e0-1855afc42026",
        "colab": {
          "base_uri": "https://localhost:8080/",
          "height": 55
        }
      },
      "source": [
        "\"\"\"\n",
        "Contacts\n",
        "\"\"\"\n",
        "\n",
        "# You went to a conference and got people to sign up for text updates from your startup. Go through this dict to make the phone numbers readable to a computer. \n",
        "\n",
        "# Hint: It can't include any non-numeric\n",
        "# characters.\n",
        "\n",
        "contacts = {\n",
        "\t'Jamie': '1.192.168.0143',\n",
        "\t'Kartik': '1.837.209.1121',\n",
        "\t'Grant': '1.826.386.1758',\n",
        "\t'Brandon': '1.935.297.9447',\n",
        "\t'Monique': '1.702.716.5353',\n",
        "\t'Sohom': '1.576.619.6100',\n",
        "}\n",
        "\n",
        "contacts_new = {}\n",
        "\n",
        "import re\n",
        "x = contacts.get('Jamie')\n",
        "x = re.sub(r\"\\.\", \"\", x)\n",
        "contacts_new.update( {'Jamie' : x} )\n",
        "\n",
        "x = contacts.get('Kartik')\n",
        "x = re.sub(r\"\\.\", \"\", x)\n",
        "contacts_new.update( {'Kartik' : x} )\n",
        "\n",
        "x = contacts.get('Grant')\n",
        "x = re.sub(r\"\\.\", \"\", x)\n",
        "contacts_new.update( {'Grant' : x} )\n",
        "\n",
        "x = contacts.get('Brandon')\n",
        "x = re.sub(r\"\\.\", \"\", x)\n",
        "contacts_new.update( {'Brandon' : x} )\n",
        "\n",
        "x = contacts.get('Monique')\n",
        "x = re.sub(r\"\\.\", \"\", x)\n",
        "contacts_new.update( {'Monique' : x} )\n",
        "\n",
        "x = contacts.get('Sohom')\n",
        "x = re.sub(r\"\\.\", \"\", x)\n",
        "contacts_new.update( {'Sohom' : x} )\n",
        "\n",
        "print(contacts_new)"
      ],
      "execution_count": 0,
      "outputs": [
        {
          "output_type": "stream",
          "text": [
            "{'Jamie': '11921680143', 'Kartik': '18372091121', 'Grant': '18263861758', 'Brandon': '19352979447', 'Monique': '17027165353', 'Sohom': '15766196100'}\n"
          ],
          "name": "stdout"
        }
      ]
    },
    {
      "cell_type": "markdown",
      "metadata": {
        "id": "I9eekKo7T-Zv",
        "colab_type": "text"
      },
      "source": [
        "\n",
        "\n",
        "### P2.PY\n",
        "\n",
        "\n"
      ]
    },
    {
      "cell_type": "code",
      "metadata": {
        "id": "rjRPhf-oT-Zw",
        "colab_type": "code",
        "outputId": "3256ab06-0451-4e8f-e329-50721617591c",
        "colab": {
          "base_uri": "https://localhost:8080/",
          "height": 195
        }
      },
      "source": [
        "\"\"\"\n",
        "Grades\n",
        "\"\"\"\n",
        "# Here's a dict containing students' grades from the semester's assignments.\n",
        "\n",
        "students = {\n",
        "  'Ashton': [86, 45, 98, 100],\n",
        "  'Sierra': [100, 100, 100, 100],\n",
        "  'Zach': [38, 49, 90, 87],\n",
        "  'Manuel': [98, 92, 86, 100],\n",
        "  'Felicia': [94, 87, 89, 95],\n",
        "  'Ankur': [75, 77, 77, 85],\n",
        "  'Ananya': [98, 94, 87, 92],\n",
        "  'Nick': [79, 84, 89, 90],\n",
        "  'Olivia': [83, 91, 69, 85],\n",
        "  'Molly': [83, 74, 72, 90]\n",
        "}\n",
        "\n",
        "# p 1.1) Create a dict called num_grades to store each student's average numerical grade for the semester.\n",
        "\n",
        "class_avgs = {}\n",
        "\n",
        "for i in students.keys():\n",
        "  class_avgs[i] =  sum(students[i])/len(students[i])\n",
        "\n",
        "class_avgs\n",
        "\n",
        "\n",
        "# p 1.2) Create a dict called letter_grades to store each student's final letter grade for the semester. Use A, B, C, D, and F as grades per the standard grading scale.\n",
        "\n",
        "# letter_grades = {}\n",
        "\n",
        "# for key in class_avgs:\n",
        "#   print(key)\n",
        "#   # if i >= 90:\n",
        "#   #   print('A')\n",
        "# #  else:\n",
        "#    print('not A')\n",
        " # print(i)\n",
        "#   if class_avgs[i] >= 90:\n",
        "#     letter_grade = 'A'\n",
        "#   elif class_avgs[i] >= 80:\n",
        "#     letter_grade = 'B'\n",
        "#   elif class_avgs[i] >= 70:\n",
        "#     letter_grade = 'C'\n",
        "#   elif class_avgs[i] >= 60:\n",
        "#     letter_grade = 'D'\n",
        "#   else:\n",
        "#     letter_grade = 'F'\n",
        "\n",
        "\n",
        "# letter_grade\n",
        "\n",
        "\n",
        "# letter_grades = \n",
        "\n",
        "\n",
        "\n",
        "# p 1.3) Create a list of honor roll students (i.e. students who got A's)\n"
      ],
      "execution_count": 1,
      "outputs": [
        {
          "output_type": "execute_result",
          "data": {
            "text/plain": [
              "{'Ananya': 92.75,\n",
              " 'Ankur': 78.5,\n",
              " 'Ashton': 82.25,\n",
              " 'Felicia': 91.25,\n",
              " 'Manuel': 94.0,\n",
              " 'Molly': 79.75,\n",
              " 'Nick': 85.5,\n",
              " 'Olivia': 82.0,\n",
              " 'Sierra': 100.0,\n",
              " 'Zach': 66.0}"
            ]
          },
          "metadata": {
            "tags": []
          },
          "execution_count": 1
        }
      ]
    },
    {
      "cell_type": "code",
      "metadata": {
        "id": "lGynf2cJTDLV",
        "colab_type": "code",
        "outputId": "368e6288-9cdd-4a58-cbc1-160ec0cf8830",
        "colab": {
          "base_uri": "https://localhost:8080/",
          "height": 195
        }
      },
      "source": [
        "for i in students.keys():\n",
        "  class_avgs[i] =  sum(students[i])/len(students[i])\n",
        "\n",
        "class_avgs\n"
      ],
      "execution_count": 0,
      "outputs": [
        {
          "output_type": "execute_result",
          "data": {
            "text/plain": [
              "{'Ananya': 92.75,\n",
              " 'Ankur': 78.5,\n",
              " 'Ashton': 82.25,\n",
              " 'Felicia': 91.25,\n",
              " 'Manuel': 94.0,\n",
              " 'Molly': 79.75,\n",
              " 'Nick': 85.5,\n",
              " 'Olivia': 82.0,\n",
              " 'Sierra': 100.0,\n",
              " 'Zach': 66.0}"
            ]
          },
          "metadata": {
            "tags": []
          },
          "execution_count": 15
        }
      ]
    },
    {
      "cell_type": "code",
      "metadata": {
        "id": "pQYSpZFzXJ53",
        "colab_type": "code",
        "outputId": "70f2ba77-a943-4cd9-87a4-23f6aa26f5cd",
        "colab": {
          "base_uri": "https://localhost:8080/",
          "height": 240
        }
      },
      "source": [
        "# class_avgs\n",
        "\n",
        "grades = {}\n",
        "\n",
        "for i in class_avgs():\n",
        "  if i >= 80:\n",
        "    class_avgs.update( {'Jamie' : 'A'} )\n",
        "\n",
        "class_avgs\n",
        "  #   print('A')\n",
        "  # elif i >= 80 and i < 90:\n",
        "  #   print('B')\n",
        "  # elif i >= 70 and i < 80:\n",
        "  #   print('C')\n",
        "  # elif i >= 60 and i < 70:\n",
        "  #   print('D')\n",
        "  # else:\n",
        "  #   print('F')\n",
        "\n",
        "grades\n",
        "\n",
        "  # if i > 90:\n",
        "  #   print('A')\n",
        "  # elif i > 80:\n",
        "  #   print('B')\n",
        "  # elif i > 70:\n",
        "  #   print('C')\n",
        "  # elif i > 60:\n",
        "  #   print('D')"
      ],
      "execution_count": 0,
      "outputs": [
        {
          "output_type": "error",
          "ename": "TypeError",
          "evalue": "ignored",
          "traceback": [
            "\u001b[0;31m---------------------------------------------------------------------------\u001b[0m",
            "\u001b[0;31mTypeError\u001b[0m                                 Traceback (most recent call last)",
            "\u001b[0;32m<ipython-input-42-22535372ccb5>\u001b[0m in \u001b[0;36m<module>\u001b[0;34m()\u001b[0m\n\u001b[1;32m      3\u001b[0m \u001b[0;34m\u001b[0m\u001b[0m\n\u001b[1;32m      4\u001b[0m \u001b[0;32mfor\u001b[0m \u001b[0mi\u001b[0m \u001b[0;32min\u001b[0m \u001b[0mclass_avgs\u001b[0m\u001b[0;34m.\u001b[0m\u001b[0mvalues\u001b[0m\u001b[0;34m(\u001b[0m\u001b[0;34m)\u001b[0m\u001b[0;34m:\u001b[0m\u001b[0;34m\u001b[0m\u001b[0;34m\u001b[0m\u001b[0m\n\u001b[0;32m----> 5\u001b[0;31m   \u001b[0;32mif\u001b[0m \u001b[0mi\u001b[0m \u001b[0;34m>=\u001b[0m \u001b[0;36m80\u001b[0m\u001b[0;34m:\u001b[0m\u001b[0;34m\u001b[0m\u001b[0;34m\u001b[0m\u001b[0m\n\u001b[0m\u001b[1;32m      6\u001b[0m     \u001b[0mclass_avgs\u001b[0m\u001b[0;34m.\u001b[0m\u001b[0mupdate\u001b[0m\u001b[0;34m(\u001b[0m \u001b[0;34m{\u001b[0m\u001b[0;34m'Jamie'\u001b[0m \u001b[0;34m:\u001b[0m \u001b[0;34m'A'\u001b[0m\u001b[0;34m}\u001b[0m \u001b[0;34m)\u001b[0m\u001b[0;34m\u001b[0m\u001b[0;34m\u001b[0m\u001b[0m\n\u001b[1;32m      7\u001b[0m \u001b[0;34m\u001b[0m\u001b[0m\n",
            "\u001b[0;31mTypeError\u001b[0m: '>=' not supported between instances of 'str' and 'int'"
          ]
        }
      ]
    },
    {
      "cell_type": "markdown",
      "metadata": {
        "id": "fjXYhpR_T-Zz",
        "colab_type": "text"
      },
      "source": [
        "\n",
        "\n",
        "### P3.PY\n",
        "\n",
        "\n"
      ]
    },
    {
      "cell_type": "code",
      "metadata": {
        "id": "dnNTo_y5T-Z0",
        "colab_type": "code",
        "colab": {}
      },
      "source": [
        "\"\"\"\n",
        "Price Inventory\n",
        "\"\"\"\n",
        "\n",
        "# Imagine you're the owner of an Italian restaurant. You're evaluating your pricing to make sure it's up to date with the latest costs of making each menu item (see the menu prices and costs dicts below). Evaluate whether each item's price returns a profit margin of at least $1.00. If it doesn't, update the menu_prices dict with a new price that gives the item a $1.00 profit margin. Then print out the items which you've repriced in a new dict called price_increases.\n",
        "\n",
        "menu_prices = {\n",
        "\t'fettuccine bolognese': 14.99,\n",
        "\t'gnocchi gorgonzola': 10.99,\n",
        "\t'chicken parmigiano': 13.99,\n",
        "\t'butternut squash risotto': 9.99,\n",
        "\t'spaghetti carbonara': 12.99,\n",
        "\t'pizza margherita': 12.99,\n",
        "\t'chicken marsala': 13.99\n",
        "}\n",
        "\n",
        "menu_costs = {\n",
        "\t'fettuccine bolognese': 12.50,\n",
        "\t'gnocchi gorgonzola': 11.25,\n",
        "\t'chicken parmigiano': 11.75,\n",
        "\t'butternut squash risotto': 6.33,\n",
        "\t'spaghetti carbonara': 12.90,\n",
        "\t'pizza margherita': 14.00,\n",
        "\t'chicken marsala': 11.75\n",
        "}\n",
        "\n",
        "# price_increases = \n",
        "\n"
      ],
      "execution_count": 0,
      "outputs": []
    },
    {
      "cell_type": "markdown",
      "metadata": {
        "id": "OY4HIe9zSN8g",
        "colab_type": "text"
      },
      "source": [
        "## COUNTERS CHALLENGE\n",
        "\n",
        "\n"
      ]
    },
    {
      "cell_type": "markdown",
      "metadata": {
        "id": "n6-wbcqISxIr",
        "colab_type": "text"
      },
      "source": [
        "### P1.PY"
      ]
    },
    {
      "cell_type": "code",
      "metadata": {
        "id": "LKLiEr_3SN8g",
        "colab_type": "code",
        "colab": {}
      },
      "source": [
        "\"\"\"\n",
        "Word Frequency\n",
        "\"\"\"\n",
        "\n",
        "# Print out the number of words in this movie quote. Find and print out the most common word in the quote and how many times it was used.\n",
        "### Hint: You do not need a loop for this. Look up the Counter docs in python3.\n",
        "\n",
        "from collections import Counter\n",
        "\n",
        "princess_bride = [\n",
        "'Hello', 'my', 'name', 'is', 'Inigo', 'Montoya',\n",
        "'You', 'killed', 'my', 'father',\n",
        "'Prepare', 'to', 'die'\n",
        "]\n",
        "\n",
        "### fave_word = \n",
        "\n",
        "# p.s. You might use this to help analyze the most common topic in comments or reviews from your users to help understand the best places to improve you product."
      ],
      "execution_count": 0,
      "outputs": []
    },
    {
      "cell_type": "markdown",
      "metadata": {
        "id": "7L4oLSDpSN8n",
        "colab_type": "text"
      },
      "source": [
        "\n",
        "\n",
        "### P2.PY\n",
        "\n",
        "\n"
      ]
    },
    {
      "cell_type": "code",
      "metadata": {
        "id": "MYo0kTxuSN8o",
        "colab_type": "code",
        "colab": {}
      },
      "source": [
        "\"\"\"\n",
        "Summing Dict Values\n",
        "\"\"\"\n",
        "\n",
        "# Two Kindergarten teachers poll their classes for what fruit they want to eat for snacktime tomorrow. Only one of them is going shopping, so she needs to know how many of each fruit she needs to buy in total. Tally these up and assign them to the \"shopping_list\" dict.\n",
        "\n",
        "poll1 = {'apples': 8, 'bananas': 12}\n",
        "poll2 = {'apples': 6, 'bananas': 6, 'clementines': 8}\n",
        "\n",
        "### shopping_list = \n",
        "\n"
      ],
      "execution_count": 0,
      "outputs": []
    },
    {
      "cell_type": "code",
      "metadata": {
        "id": "r1YRg7wiOHYd",
        "colab_type": "code",
        "colab": {}
      },
      "source": [
        ""
      ],
      "execution_count": 0,
      "outputs": []
    }
  ]
}