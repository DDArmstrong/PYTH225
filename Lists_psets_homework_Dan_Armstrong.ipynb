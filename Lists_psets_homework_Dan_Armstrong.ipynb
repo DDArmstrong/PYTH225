{
  "nbformat": 4,
  "nbformat_minor": 0,
  "metadata": {
    "colab": {
      "name": "Copy of lists_psets.ipynb",
      "provenance": [],
      "collapsed_sections": [],
      "include_colab_link": true
    },
    "kernelspec": {
      "name": "python3",
      "display_name": "Python 3"
    }
  },
  "cells": [
    {
      "cell_type": "markdown",
      "metadata": {
        "id": "view-in-github",
        "colab_type": "text"
      },
      "source": [
        "<a href=\"https://colab.research.google.com/github/Denko/PYTH225/blob/master/Copy_of_lists_psets.ipynb\" target=\"_parent\"><img src=\"https://colab.research.google.com/assets/colab-badge.svg\" alt=\"Open In Colab\"/></a>"
      ]
    },
    {
      "cell_type": "markdown",
      "metadata": {
        "id": "VKK9R_lb0AWE",
        "colab_type": "text"
      },
      "source": [
        "<a href=\"https://colab.research.google.com/github/mottaquikarim/PYTH2/blob/master/src/PSETS/nb/lists_psets.ipynb\" target=\"_parent\"><img src=\"https://colab.research.google.com/assets/colab-badge.svg\" alt=\"Open In Colab\"/></a>"
      ]
    },
    {
      "cell_type": "markdown",
      "metadata": {
        "id": "G8ZGNLcR0AWG",
        "colab_type": "text"
      },
      "source": [
        "#  LISTS\n",
        "\n",
        "## LIST_OPS\n",
        "\n",
        "### P1.PY\n"
      ]
    },
    {
      "cell_type": "code",
      "metadata": {
        "id": "yT3yG3Bf0AWH",
        "colab_type": "code",
        "outputId": "31bbd453-8e68-48f4-cd58-163488ac5254",
        "colab": {
          "base_uri": "https://localhost:8080/",
          "height": 106
        }
      },
      "source": [
        "\"\"\"\n",
        "Basic List Operations I\n",
        "\"\"\"\n",
        "\n",
        "# Create a list including these five animals - elephant, tiger, otter, orangutan, and penguin.\n",
        "\n",
        "animals = ['elephant','tiger','otter','orangutan','penguin']\n",
        "\n",
        "# Print the 4th animal on the list.\n",
        "\n",
        "print(animals[3])\n",
        "\n",
        "# Add 'tortoise' to the beginning of the list.\n",
        "\n",
        "animals.insert(0,'tortoise')\n",
        "print(animals)\n",
        "\n",
        "# Print the length of the list.\n",
        "\n",
        "print(len(animals))\n",
        "\n",
        "# Remove 'orangutan' from the list.\n",
        "\n",
        "animals.pop(4)\n",
        "print(animals) \n",
        "\n",
        "# Sort the list alphabetically and print it out.\n",
        "\n",
        "animals.sort()\n",
        "print(animals)\n"
      ],
      "execution_count": 0,
      "outputs": [
        {
          "output_type": "stream",
          "text": [
            "orangutan\n",
            "['tortoise', 'elephant', 'tiger', 'otter', 'orangutan', 'penguin']\n",
            "6\n",
            "['tortoise', 'elephant', 'tiger', 'otter', 'penguin']\n",
            "['elephant', 'otter', 'penguin', 'tiger', 'tortoise']\n"
          ],
          "name": "stdout"
        }
      ]
    },
    {
      "cell_type": "markdown",
      "metadata": {
        "id": "m_fhLBlt0AWK",
        "colab_type": "text"
      },
      "source": [
        "\n",
        "\n",
        "### P2.PY\n",
        "\n",
        "\n"
      ]
    },
    {
      "cell_type": "code",
      "metadata": {
        "id": "Q7owg-fN0AWL",
        "colab_type": "code",
        "outputId": "2f3837a3-6015-4cdf-8043-b76f3d7a8916",
        "colab": {
          "base_uri": "https://localhost:8080/",
          "height": 141
        }
      },
      "source": [
        "\"\"\"\n",
        "Basic List Operations II\n",
        "\"\"\"\n",
        "\n",
        "# Declare a list with 5 names, and print out the length of that list.\n",
        "names = ['Birgit','Cathy','Jessica','Andrea','Patricia']\n",
        "print(names)\n",
        "print(len(names))\n",
        "\n",
        "# Print the 3rd name on the list\n",
        "print(names[2])\n",
        "\n",
        "# Delete the first name on the list\n",
        "names.pop(0)\n",
        "print(names)\n",
        "\n",
        "# Re-add the name you deleted to the end of the list\n",
        "names.append('Birgit')\n",
        "print(names)\n",
        "\n",
        "# Replace the 2nd name on the list with a new name.\n",
        "names[1] = 'Judy'\n",
        "print(names)\n",
        "\n",
        "# Add 3 new names to the end of the list.\n",
        "names.extend(['Sylvia','Stephanie','Justine'])\n",
        "print(names)\n"
      ],
      "execution_count": 0,
      "outputs": [
        {
          "output_type": "stream",
          "text": [
            "['Birgit', 'Cathy', 'Jessica', 'Andrea', 'Patricia']\n",
            "5\n",
            "Jessica\n",
            "['Cathy', 'Jessica', 'Andrea', 'Patricia']\n",
            "['Cathy', 'Jessica', 'Andrea', 'Patricia', 'Birgit']\n",
            "['Cathy', 'Judy', 'Andrea', 'Patricia', 'Birgit']\n",
            "['Cathy', 'Judy', 'Andrea', 'Patricia', 'Birgit', 'Sylvia', 'Stephanie', 'Justine']\n"
          ],
          "name": "stdout"
        }
      ]
    },
    {
      "cell_type": "markdown",
      "metadata": {
        "id": "2woWw_Cj0AWO",
        "colab_type": "text"
      },
      "source": [
        "\n",
        "\n",
        "### P3.PY\n",
        "\n",
        "\n"
      ]
    },
    {
      "cell_type": "code",
      "metadata": {
        "id": "-dwEaDpa0AWO",
        "colab_type": "code",
        "outputId": "7ba7b631-844a-4d17-9f2c-dcad0094944a",
        "colab": {
          "base_uri": "https://localhost:8080/",
          "height": 159
        }
      },
      "source": [
        "\"\"\"\n",
        "Math Operations\n",
        "\"\"\"\n",
        "\n",
        "# Save a list with the numbers `2`, `4`, `6`, and `8` into a variable called `numbers`. Use this variable for all the problems in this PSET.\n",
        "numbers = ['2','4','6','8']\n",
        "print(numbers)\n",
        "\n",
        "# Print the max of `numbers`\n",
        "for i in range(0, len(numbers)):\n",
        "  numbers[i] = int(numbers[i])\n",
        "print(max(numbers))\n",
        "\n",
        "# Pop the last element in `numbers` off; re-insert it at index `2` and print the resultant list.\n",
        "\n",
        "last_element = numbers[-1]\n",
        "print(last_element)\n",
        "numbers.insert(2,last_element)\n",
        "print(numbers)\n",
        "numbers.pop(-1)\n",
        "print(numbers)\n",
        "\n",
        "# Pop the second number in `numbers` off.\n",
        "numbers.pop(1)\n",
        "print(numbers)\n",
        "\n",
        "# Append `3` to `numbers`.\n",
        "numbers.append('3')\n",
        "print(numbers)\n",
        "\n",
        "# Print out the average number.\n",
        "for i in range(0, len(numbers)):\n",
        "  numbers[i] = int(numbers[i])\n",
        "print(sum(numbers)/len(numbers))\n",
        "\n",
        "\n"
      ],
      "execution_count": 0,
      "outputs": [
        {
          "output_type": "stream",
          "text": [
            "['2', '4', '6', '8']\n",
            "8\n",
            "8\n",
            "[2, 4, 8, 6, 8]\n",
            "[2, 4, 8, 6]\n",
            "[2, 8, 6]\n",
            "[2, 8, 6, '3']\n",
            "4.75\n"
          ],
          "name": "stdout"
        }
      ]
    },
    {
      "cell_type": "markdown",
      "metadata": {
        "id": "87N7QJlz0AWR",
        "colab_type": "text"
      },
      "source": [
        "\n",
        "\n",
        "## SORTING\n",
        "\n",
        "### P1.PY\n",
        "\n",
        "\n"
      ]
    },
    {
      "cell_type": "code",
      "metadata": {
        "id": "0hsNIv4I0AWV",
        "colab_type": "code",
        "outputId": "c38ba1d0-4083-4c12-b184-b033464aec90",
        "colab": {
          "base_uri": "https://localhost:8080/",
          "height": 70
        }
      },
      "source": [
        "\"\"\"\n",
        "Spotify Playlists - Sorting\n",
        "\"\"\"\n",
        "\n",
        "# You work for Spotify and are creating a feature for users to alphabetize their playlists by song title. Below is a list of titles from a sample playlist.\n",
        "\n",
        "playlist_titles = ['Tiny Dancer', 'At Last', 'Fortunate Son', \n",
        "'Hey Jude', 'Isn\\'t She Lovely', 'Just the Way You Are', 'I\\'m Yours',\n",
        "'Vienna', 'Roxanne', 'Dancing in the Moonlight']\n",
        "\n",
        "# Alphabetize these songs and print the result.\n",
        "\n",
        "print(playlist_titles)\n",
        "print(sorted(playlist_titles))\n",
        "\n",
        "# Now do the reverse.\n",
        "\n",
        "print(sorted(playlist_titles,reverse=True))"
      ],
      "execution_count": 0,
      "outputs": [
        {
          "output_type": "stream",
          "text": [
            "['Tiny Dancer', 'At Last', 'Fortunate Son', 'Hey Jude', \"Isn't She Lovely\", 'Just the Way You Are', \"I'm Yours\", 'Vienna', 'Roxanne', 'Dancing in the Moonlight']\n",
            "['At Last', 'Dancing in the Moonlight', 'Fortunate Son', 'Hey Jude', \"I'm Yours\", \"Isn't She Lovely\", 'Just the Way You Are', 'Roxanne', 'Tiny Dancer', 'Vienna']\n",
            "['Vienna', 'Tiny Dancer', 'Roxanne', 'Just the Way You Are', \"Isn't She Lovely\", \"I'm Yours\", 'Hey Jude', 'Fortunate Son', 'Dancing in the Moonlight', 'At Last']\n"
          ],
          "name": "stdout"
        }
      ]
    },
    {
      "cell_type": "markdown",
      "metadata": {
        "id": "2Tam-XEz0AWY",
        "colab_type": "text"
      },
      "source": [
        "\n",
        "\n",
        "### P2.PY\n",
        "\n",
        "\n"
      ]
    },
    {
      "cell_type": "code",
      "metadata": {
        "id": "68fEGO6R0AWZ",
        "colab_type": "code",
        "outputId": "bbb8c637-eed0-4073-e2bb-6d2318fa47a4",
        "colab": {
          "base_uri": "https://localhost:8080/",
          "height": 52
        }
      },
      "source": [
        "\"\"\"\n",
        "Ordering Random Numbers\n",
        "\"\"\"\n",
        "\n",
        "# Create a list of 6 randomly generated numbers called numbers and sort it in descending order.\n",
        "\n",
        "import random\n",
        "res = [random.randrange(1, 50, 1) for i in range(6)] \n",
        "print(res)\n",
        "print(sorted(res,reverse=True))\n"
      ],
      "execution_count": 0,
      "outputs": [
        {
          "output_type": "stream",
          "text": [
            "[24, 44, 28, 14, 45, 49]\n",
            "[49, 45, 44, 28, 24, 14]\n"
          ],
          "name": "stdout"
        }
      ]
    },
    {
      "cell_type": "markdown",
      "metadata": {
        "id": "YeX7XHtg0AWc",
        "colab_type": "text"
      },
      "source": [
        "\n",
        "\n",
        "## LIST_MANIPULATION\n",
        "\n",
        "### P1.PY\n",
        "\n",
        "\n"
      ]
    },
    {
      "cell_type": "code",
      "metadata": {
        "id": "Vqn-XqMY0AWd",
        "colab_type": "code",
        "outputId": "1e0d326d-b90d-4fea-fde0-d89fe462c491",
        "colab": {
          "base_uri": "https://localhost:8080/",
          "height": 35
        }
      },
      "source": [
        "\"\"\"\n",
        "Phone Numbers\n",
        "\"\"\"\n",
        "\n",
        "# Parse this phone number so that a computer can process\n",
        "# it. (Hint: It can't include any non-numeric\n",
        "# characters.)\n",
        "\n",
        "\n",
        "cell = '1.192.168.0143'\n",
        "print(int(cell.replace('.', '')))"
      ],
      "execution_count": 0,
      "outputs": [
        {
          "output_type": "stream",
          "text": [
            "11921680143\n"
          ],
          "name": "stdout"
        }
      ]
    },
    {
      "cell_type": "markdown",
      "metadata": {
        "id": "boXMlE8Y0AWf",
        "colab_type": "text"
      },
      "source": [
        "\n",
        "\n",
        "### P2.PY\n",
        "\n",
        "\n"
      ]
    },
    {
      "cell_type": "code",
      "metadata": {
        "id": "qzExTAVa0AWf",
        "colab_type": "code",
        "outputId": "17d31b34-76ce-4442-dcee-5a4a06c0b269",
        "colab": {
          "base_uri": "https://localhost:8080/",
          "height": 124
        }
      },
      "source": [
        "\"\"\"\n",
        "Basic Math Ops\n",
        "\"\"\"\n",
        "\n",
        "# Given the list below, assign the correct values to the variables below.\n",
        "\t# my_sum = \n",
        "\t# my_min = \n",
        "\t# my_max = \n",
        "\t# my_range = \n",
        "\t# my_mean =\n",
        "\n",
        "nums = [2, 19, 20, 12, 6, 24, 8, 30, 28, 25]\n",
        "\n",
        "\n",
        "# Once you finish, print out each value **on its own line** in this format: \"my_median = \" etc.\n",
        "\n",
        "my_sum = sum(nums)\n",
        "my_min = min(nums)\n",
        "my_max = max(nums)\n",
        "my_range = my_max - my_min\n",
        "my_mean = my_sum / len(nums)\n",
        "\n",
        "print(my_sum)\n",
        "print(my_min)\n",
        "print(my_max)\n",
        "print(my_range)\n",
        "print(my_mean)\n",
        "\n"
      ],
      "execution_count": 0,
      "outputs": [
        {
          "output_type": "stream",
          "text": [
            "174\n",
            "2\n",
            "30\n",
            "28\n",
            "17.4\n",
            "10\n"
          ],
          "name": "stdout"
        }
      ]
    },
    {
      "cell_type": "markdown",
      "metadata": {
        "id": "ppcXbcOu0AWj",
        "colab_type": "text"
      },
      "source": [
        "\n",
        "\n",
        "### P3.PY\n",
        "\n",
        "\n"
      ]
    },
    {
      "cell_type": "code",
      "metadata": {
        "id": "_9C4nxvU0AWk",
        "colab_type": "code",
        "outputId": "b780c128-fac6-43a7-d063-42e146052f18",
        "colab": {
          "base_uri": "https://localhost:8080/",
          "height": 177
        }
      },
      "source": [
        "\"\"\"\n",
        "Merge Lists with Duplicates\n",
        "\"\"\"\n",
        "\n",
        "# Use the two lists below to solve this problem. Print out the result from each section as you go along.\n",
        "\n",
        "list1, list2 = [2, 8, 6], [10, 4, 12]\n",
        "print(list1)\n",
        "\n",
        "# A) Add another instance of each item in list1 to list1 again and assign the results to list3.\n",
        "list3 = None\n",
        "\n",
        "list1.insert(1, 2)\n",
        "list1.insert(3,8)\n",
        "list1.insert(5,6)\n",
        "list3 = list1\n",
        "print(list3)\n",
        "\n",
        "# B) Combine the two given lists and assign them to list4.\n",
        "list4 = None\n",
        "list4 = list1 + list2\n",
        "print(list4)\n",
        "\n",
        "# C) Replace the first 3 items in list 3 with the numbers 13, 16, 9.\n",
        "# list3[:2] = None\n",
        "list3[0:3] = [13,16,9]\n",
        "# list3[1] = 16\n",
        "# list3[2] = 9\n",
        "print(list3)\n",
        "\n",
        "\n",
        "# # D) Merge list3 and list4 to create a list containing no duplicates and store this in list5.\n",
        "list5 = None\n",
        "print(list5)\n",
        "list5 = list3 + list4\n",
        "print(list5)\n",
        "for item in list5:\n",
        "  if list5.count(item) > 1:\n",
        "    list5.pop(item)\n",
        "print(list5)\n",
        "for item in list5:\n",
        "  if list5.count(item) > 1:\n",
        "    list5.pop(item)\n",
        "print(list5)\n",
        "for item in list5:\n",
        "  if list5.count(item) > 1:\n",
        "    list5.pop(item)\n",
        "print(list5)\n",
        "\n",
        "\n",
        "# Take a look at your printed statements to see the evolution of your lists with each step of this problem.\n"
      ],
      "execution_count": 0,
      "outputs": [
        {
          "output_type": "stream",
          "text": [
            "[2, 8, 6]\n",
            "[2, 2, 8, 8, 6, 6]\n",
            "[2, 2, 8, 8, 6, 6, 10, 4, 12]\n",
            "[13, 16, 9, 8, 6, 6]\n",
            "None\n",
            "[13, 16, 9, 8, 6, 6, 2, 2, 8, 8, 6, 6, 10, 4, 12]\n",
            "[13, 16, 9, 8, 6, 6, 6, 10, 4, 12]\n",
            "[13, 16, 9, 8, 6, 6, 4, 12]\n",
            "[13, 16, 9, 8, 6, 6]\n"
          ],
          "name": "stdout"
        }
      ]
    },
    {
      "cell_type": "markdown",
      "metadata": {
        "id": "XkrsSWq30AWn",
        "colab_type": "text"
      },
      "source": [
        "\n",
        "\n",
        "### P4.PY\n",
        "\n",
        "\n"
      ]
    },
    {
      "cell_type": "code",
      "metadata": {
        "id": "vvLl4SGD0AWo",
        "colab_type": "code",
        "outputId": "a02d386d-1559-462c-de16-342f73b7d8a4",
        "colab": {
          "base_uri": "https://localhost:8080/",
          "height": 88
        }
      },
      "source": [
        "\"\"\"\n",
        "Cool Runnings!\n",
        "\"\"\"\n",
        "\n",
        "# Here's a quote from the movie 'Cool Runnings'. :)\n",
        "\n",
        "# Replace the word bobsled with \"YOLO\" and print the resultant list as 4 sentences (i.e. NOT a list), each on a new line.\n",
        "\n",
        "cool_runnings = [\n",
        "\t'Feel', 'the', 'rhythm.',\n",
        "\t'Feel', 'the', 'rhyme.',\n",
        "\t'Get', 'on', 'up.',\n",
        "\t'It\\'s', 'bobsled', 'time!'\n",
        "]\n",
        "\n",
        "print(cool_runnings[0], cool_runnings[1], cool_runnings[2])\n",
        "print(cool_runnings[3], cool_runnings[4], cool_runnings[5])\n",
        "print(cool_runnings[6], cool_runnings[7], cool_runnings[8])\n",
        "print(cool_runnings[9], 'YOLO', cool_runnings[11])"
      ],
      "execution_count": 0,
      "outputs": [
        {
          "output_type": "stream",
          "text": [
            "Feel the rhythm.\n",
            "Feel the rhyme.\n",
            "Get on up.\n",
            "It's YOLO time!\n"
          ],
          "name": "stdout"
        }
      ]
    },
    {
      "cell_type": "markdown",
      "metadata": {
        "id": "87DWA_3k0AWq",
        "colab_type": "text"
      },
      "source": [
        "\n",
        "\n",
        "## LIST_CHALLENGES\n",
        "\n",
        "### P1.PY\n",
        "\n",
        "\n"
      ]
    },
    {
      "cell_type": "code",
      "metadata": {
        "id": "TJaZ_D_Y0AWr",
        "colab_type": "code",
        "outputId": "d0d716b8-1cdf-44cb-fdd3-99676042bc7b",
        "colab": {
          "base_uri": "https://localhost:8080/",
          "height": 70
        }
      },
      "source": [
        "\"\"\"\n",
        "CHALLENGE - Extensions\n",
        "\"\"\"\n",
        "\n",
        "# ** Challenge** Add each element of the tuple1 to list1 *individually* and print the result.\n",
        "\n",
        "# Does *individually* mean adding them one at a time and then printing them one at a time?\n",
        "# Or building up to printing all three? I did the latter.\n",
        "\n",
        "list1 = [6, 12, 9, 4, 10, 1]\n",
        "tuple1 = [(15,3), (6,2), (1, 8)]\n",
        "list1 = list1 + [tuple1[0]]\n",
        "print(list1)\n",
        "list1 = list1 + [tuple1[1]]\n",
        "print(list1)\n",
        "list1 = list1 + [tuple1[2]]\n",
        "print(list1)\n",
        "\n"
      ],
      "execution_count": 0,
      "outputs": [
        {
          "output_type": "stream",
          "text": [
            "[6, 12, 9, 4, 10, 1, (15, 3)]\n",
            "[6, 12, 9, 4, 10, 1, (15, 3), (6, 2)]\n",
            "[6, 12, 9, 4, 10, 1, (15, 3), (6, 2), (1, 8)]\n"
          ],
          "name": "stdout"
        }
      ]
    },
    {
      "cell_type": "markdown",
      "metadata": {
        "id": "Y7opX0TG0AWt",
        "colab_type": "text"
      },
      "source": [
        "\n",
        "\n",
        "### P2.PY\n",
        "\n",
        "\n"
      ]
    },
    {
      "cell_type": "code",
      "metadata": {
        "id": "OH_hCHPA0AWt",
        "colab_type": "code",
        "outputId": "8838eb03-0144-4ff1-cd69-0e23c4baa45f",
        "colab": {
          "base_uri": "https://localhost:8080/",
          "height": 106
        }
      },
      "source": [
        "\"\"\"\n",
        "CHALLENGE - Core Statistics Calculations\n",
        "\"\"\"\n",
        "\n",
        "# Given the sample below, find the mean, median, mode, variance, and standard deviation of this sample. Print them out separately, but in the same format as before.\n",
        "\t# my_median = \n",
        "\t# my_mode = \n",
        "\t# my_variance = \n",
        "\t# my_sd = \n",
        "\n",
        "sample = [6, 19, 20, 12, 6, 24, 8, 30, 28, 25]\n",
        "\n",
        "# Once you finish, print out each value **on its own line** in this format: \"median = \" etc.\n",
        "\n",
        "# Median calculation. If # of items is even, median is the midpoint between the two middle values. \n",
        "# If it's odd, the median is the middle value.\n",
        "\n",
        "sample = (sorted(sample))\n",
        "# print(sample)\n",
        "if len(sample) % 2 == 0:  # even # of items\n",
        "\tsecond_number = len(sample)/2\n",
        "\tfirst_number = second_number - 1\n",
        "\tmy_median = (sample[int(first_number)] + sample[int(second_number)]) / 2\n",
        "#\tprint(my_median)\n",
        "else:\n",
        "\t my_median = sample[sample(len)/2]  # odd # of items.\n",
        "\n",
        "# Mode is halfway between the highest and lowest value\n",
        "maximum = max(sample)\n",
        "minimum = min(sample)\n",
        "my_mode = (maximum + minimum) / 2\n",
        "# print(my_mode)\n",
        "\n",
        "# I'm going to cheat and import numpy\n",
        "\n",
        "import numpy as np\n",
        "my_var = np.var(sample)\n",
        "my_sd = np.std(sample)\n",
        "\n",
        "print(sample)\n",
        "print(my_median)\n",
        "print(my_mode)\n",
        "print(my_var)\n",
        "print(my_sd)\n"
      ],
      "execution_count": 0,
      "outputs": [
        {
          "output_type": "stream",
          "text": [
            "[6, 6, 8, 12, 19, 20, 24, 25, 28, 30]\n",
            "19.5\n",
            "18.0\n",
            "75.75999999999999\n",
            "8.704022058795577\n"
          ],
          "name": "stdout"
        }
      ]
    },
    {
      "cell_type": "markdown",
      "metadata": {
        "id": "g92k_fGu0AWw",
        "colab_type": "text"
      },
      "source": [
        "\n"
      ]
    }
  ]
}
