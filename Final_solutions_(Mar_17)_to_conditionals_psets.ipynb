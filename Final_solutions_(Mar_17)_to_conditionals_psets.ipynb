{
  "nbformat": 4,
  "nbformat_minor": 0,
  "metadata": {
    "colab": {
      "name": "Final solutions (Mar 17) to conditionals_psets.ipynb",
      "provenance": [],
      "collapsed_sections": [
        "KL7ytXn4V2WB",
        "t9cxGL-8VtnX",
        "777sx1WCVtno",
        "c70y61m1Vtn3",
        "zayFQdU7Vto2",
        "IFUwrDumV_Vn",
        "fp77AykMVtpN",
        "INgOFvdoVtpU",
        "SUqNu57OVtpY",
        "F_7aaMtoVtpt"
      ],
      "include_colab_link": true
    },
    "kernelspec": {
      "name": "python3",
      "display_name": "Python 3"
    }
  },
  "cells": [
    {
      "cell_type": "markdown",
      "metadata": {
        "id": "view-in-github",
        "colab_type": "text"
      },
      "source": [
        "<a href=\"https://colab.research.google.com/github/Denko/PYTH225/blob/master/Final_solutions_(Mar_17)_to_conditionals_psets.ipynb\" target=\"_parent\"><img src=\"https://colab.research.google.com/assets/colab-badge.svg\" alt=\"Open In Colab\"/></a>"
      ]
    },
    {
      "cell_type": "markdown",
      "metadata": {
        "id": "FiL9pv11VtnR",
        "colab_type": "text"
      },
      "source": [
        "#  CONDITIONALS\n",
        "\n",
        "\n"
      ]
    },
    {
      "cell_type": "markdown",
      "metadata": {
        "id": "gijpYMCLV00L",
        "colab_type": "text"
      },
      "source": [
        "## WEATHER"
      ]
    },
    {
      "cell_type": "markdown",
      "metadata": {
        "id": "KL7ytXn4V2WB",
        "colab_type": "text"
      },
      "source": [
        "### P1.PY"
      ]
    },
    {
      "cell_type": "code",
      "metadata": {
        "id": "e32ChHBAVtnU",
        "colab_type": "code",
        "outputId": "31cadce4-6802-46a7-f25f-919aa8e3dab2",
        "colab": {
          "base_uri": "https://localhost:8080/",
          "height": 35
        }
      },
      "source": [
        "\"\"\"\n",
        "Weather I - Do you need boots?\n",
        "\"\"\"\n",
        "\n",
        "# Use the values of the vars defined below to ouput the correct contextual answer to the questions below. (Note: The variables themselves ARE the questions.)\n",
        "\n",
        "# Example:\n",
        "## am_i_hungry = False\n",
        "## am_i_tired = True\n",
        "## do_i_need_to_stay_awake = False\n",
        "\n",
        "## should_i_drink_coffee_now = am_i_tired and do_i_need_to_stay_awake\n",
        "\n",
        "## ^^ This ^^ evaluates to False. If you're tired and don't need to stay awake, you don't need to drink coffee!\n",
        "\n",
        "\n",
        "is_it_raining = False\n",
        "is_it_snowing = False\n",
        "\n",
        "do_i_need_snow_boots = None\n",
        "can_i_skip_snow_boots = None\n",
        "do_i_need_rain_boots = None\n",
        "can_i_skip_rain_boots = None\n",
        "\n",
        "if is_it_raining and not is_it_snowing:\n",
        "  do_i_need_snow_boots = False\n",
        "  can_i_skip_snow_boots = True  \n",
        "  do_i_need_rain_boots = True\n",
        "  can_i_skip_rain_boots = False\n",
        "  print(\"Put on rain boots, skip the snow boots.\")\n",
        "\n",
        "if is_it_snowing and not is_it_raining:\n",
        "  do_i_need_snow_boots = True\n",
        "  can_i_skip_snow_boots = False  \n",
        "  do_i_need_rain_boots = False\n",
        "  can_i_skip_rain_boots = True\n",
        "  print(\"Put on snow boots, skip the rain boots.\")\n",
        "\n",
        "if is_it_raining and is_it_snowing:\n",
        "  do_i_need_snow_boots = True\n",
        "  can_i_skip_snow_boots = False  \n",
        "  do_i_need_rain_boots = True\n",
        "  can_i_skip_rain_boots = False\n",
        "  print(\"It's a toss-up, but rain boots are probably better for now.\")\n",
        "\n",
        "if not is_it_raining and not is_it_snowing:\n",
        "  do_i_need_snow_boots = False\n",
        "  can_i_skip_snow_boots = True  \n",
        "  do_i_need_rain_boots = False\n",
        "  can_i_skip_rain_boots = True\n",
        "  print(\"Leave the boots at home.\")"
      ],
      "execution_count": 0,
      "outputs": [
        {
          "output_type": "stream",
          "text": [
            "Leave the boots at home.\n"
          ],
          "name": "stdout"
        }
      ]
    },
    {
      "cell_type": "markdown",
      "metadata": {
        "id": "t9cxGL-8VtnX",
        "colab_type": "text"
      },
      "source": [
        "\n",
        "\n",
        "### P2.PY\n",
        "\n",
        "\n"
      ]
    },
    {
      "cell_type": "code",
      "metadata": {
        "id": "y80DTzliVtnY",
        "colab_type": "code",
        "outputId": "dd0eff2a-b1ad-42d9-fab4-89fdc88f35c2",
        "colab": {
          "base_uri": "https://localhost:8080/",
          "height": 106
        }
      },
      "source": [
        "\"\"\"\n",
        "Weather II - Precipitation\n",
        "\"\"\"\n",
        "\n",
        "# Repeat the same process as p1, using this new set of variables.\n",
        "\n",
        "sunny = True\n",
        "raining = True\n",
        "snowing = False\n",
        "\n",
        "is_it_sunny = None\n",
        "is_there_precipitation = None\n",
        "is_it_sleeting = None\n",
        "is_there_rainbow = None\n",
        "\n",
        "if sunny:\n",
        "  is_it_sunny = True\n",
        "  print(\"The sun's out.\")\n",
        "\n",
        "if raining:\n",
        "  is_there_precipitation = True\n",
        "  print(\"It's raining.\")\n",
        "\n",
        "if sunny and raining:\n",
        "  print(\"When it's both sunny and raining we call it a sun shower. Which is what we're having now.\")\n",
        "\n",
        "if not snowing:\n",
        "  is_it_sleeting = True\n",
        "  print(\"Well, maybe this is really snow, not rain. Hard to tell.\")\n",
        "\n",
        "if is_there_rainbow:\n",
        "  print(\"Look, it's a rainbow!\")\n",
        "\n",
        "print(is_it_sunny,is_there_precipitation,is_it_sleeting,is_there_rainbow)\n"
      ],
      "execution_count": 0,
      "outputs": [
        {
          "output_type": "stream",
          "text": [
            "The sun's out.\n",
            "It's raining.\n",
            "When it's both sunny and raining we call it a sun shower. Which is what we're having now.\n",
            "Well, maybe this is really snow, not rain. Hard to tell.\n",
            "True True True None\n"
          ],
          "name": "stdout"
        }
      ]
    },
    {
      "cell_type": "markdown",
      "metadata": {
        "id": "777sx1WCVtno",
        "colab_type": "text"
      },
      "source": [
        "\n",
        "\n",
        "### P3.PY\n",
        "\n",
        "\n"
      ]
    },
    {
      "cell_type": "code",
      "metadata": {
        "id": "9dNGqX2wVtnp",
        "colab_type": "code",
        "outputId": "a6c56676-75c9-436c-f500-b6d43892b8c6",
        "colab": {
          "base_uri": "https://localhost:8080/",
          "height": 52
        }
      },
      "source": [
        "\"\"\"\n",
        "Weather III - Describe Conditions\n",
        "\"\"\"\n",
        "\n",
        "# Repeat the same process as p1, using this new set of variables.\n",
        "\n",
        "\n",
        "is_it_warm = True\n",
        "is_it_humid = True\n",
        "is_it_cold = False\n",
        "is_it_icy = False\n",
        "is_it_foggy = False\n",
        "is_it_windy = False\n",
        "is_it_overcast = True\n",
        "\n",
        "is_it_summer_weather = None\n",
        "is_rain_coming = None\n",
        "is_it_muggy = None\n",
        "do_i_need_coat = None\n",
        "\n",
        "if is_it_warm and is_it_humid:\n",
        "  is_it_summer_weather = True\n",
        "  print(\"Summer on the east coast sucks: Warm and humid. No need for a coat, though.\")\n",
        "\n",
        "elif is_it_cold and is_it_icy and is_it_windy:\n",
        "  is_it_summer_weather = False\n",
        "  print(\"Winter sucks too. Time to bundle up!\")\n",
        "\n",
        "if is_it_overcast:\n",
        "  is_rain_coming = True\n",
        "  print(\"Don't forget your umbrella.\")\n",
        "\n",
        "# if is_it_warm and is_it_humid and is_it_overcast and not is_it_cold and not is_it_icy and not is_it_foggy and not is_it_windy:\n",
        " \n"
      ],
      "execution_count": 0,
      "outputs": [
        {
          "output_type": "stream",
          "text": [
            "Summer on the east coast sucks: Warm and humid. No need for a coat, though.\n",
            "Don't forget your umbrella.\n"
          ],
          "name": "stdout"
        }
      ]
    },
    {
      "cell_type": "markdown",
      "metadata": {
        "id": "c70y61m1Vtn3",
        "colab_type": "text"
      },
      "source": [
        "## LOGIC\n",
        "\n",
        "\n"
      ]
    },
    {
      "cell_type": "markdown",
      "metadata": {
        "id": "6IGtJU8oV5a8",
        "colab_type": "text"
      },
      "source": [
        "### P1.PY"
      ]
    },
    {
      "cell_type": "code",
      "metadata": {
        "id": "8dx3WRHBVtn4",
        "colab_type": "code",
        "outputId": "bec87e44-86d7-49da-bd30-e795b9a6d80d",
        "colab": {
          "base_uri": "https://localhost:8080/",
          "height": 35
        }
      },
      "source": [
        "\"\"\"\n",
        "Calculate Grade\n",
        "\"\"\"\n",
        "\n",
        "# grade = 15  # expect this to be a number\n",
        "\n",
        "# write a program that will print the \"letter\"\n",
        "# equivalent of the grade, for example:\n",
        "# when grade = 90 # -> expect A\n",
        "# when grade = 80 # -> expect B\n",
        "# when grade = 70 # -> expect C\n",
        "# when grade = 60 # -> expect D\n",
        "# when grade = 54 # -> expect F\n",
        "# when grade = -10 # -> expect Error\n",
        "# when grade = 10000 # -> expect Error\n",
        "# when grade = \"lol skool sucks\" # -> expect Error\n",
        "\n",
        "from random import randint\n",
        "grade = randint(-25, 125)\n",
        "\n",
        "if grade > 89 and grade < 101:\n",
        "  print(\"Your score was\",grade,\"so you got an A.\")\n",
        "if grade > 80 and grade < 90:\n",
        "  print(\"Your score was\",grade,\"so you got a B.\")\n",
        "if grade > 70 and grade < 80:\n",
        "  print(\"your score was\",grade,\"so you got a C.\")\n",
        "  # print(\"You got a C.\")\n",
        "if grade > 60 and grade < 70:\n",
        "  print(\"Your score was\",grade,\"so you got a D.\")\n",
        "  # print(\"you got a D.\")\n",
        "if grade > 0 and grade < 60:\n",
        "  print(\"Your score was\",grade,\"so you got an F\")\n",
        "# print(\"you got an F.\")\n",
        "if grade < 0:\n",
        "  print(\"Your score was\",grade,\"and it takes a genius to get a negative score.\")\n",
        "  # print(\"it takes a genius to get a negative score.\")\n",
        "if grade > 100:\n",
        "  print(\"Your score was\",grade,\"so you cheated, I think,\")\n",
        "\n",
        "\n"
      ],
      "execution_count": 0,
      "outputs": [
        {
          "output_type": "stream",
          "text": [
            "Your score was 58 so you got an F\n"
          ],
          "name": "stdout"
        }
      ]
    },
    {
      "cell_type": "markdown",
      "metadata": {
        "id": "HLfJLQFKVtoK",
        "colab_type": "text"
      },
      "source": [
        "\n",
        "\n",
        "### P2.PY\n",
        "\n",
        "\n"
      ]
    },
    {
      "cell_type": "code",
      "metadata": {
        "id": "g3fT3CxqVtoO",
        "colab_type": "code",
        "outputId": "891701cd-2faa-46bb-c1c8-a9d50e8649e5",
        "colab": {
          "base_uri": "https://localhost:8080/",
          "height": 35
        }
      },
      "source": [
        "\"\"\"\n",
        "Sign of Product\n",
        "\"\"\"\n",
        "\n",
        "# Given three numbers, a, b, c, without multiplying, determine the sign of their product.\n",
        "\n",
        "# EXAMPLE: a = s5, b = 6, c = -4, print 1\n",
        "\n",
        "# EXAMPLE: a = 5, b = 6, c = -4, print -1\n",
        "\n",
        "a = -1\n",
        "b = -1\n",
        "c = -1\n",
        "\n",
        "if a > 0 and b > 0 and c > 0:\n",
        "  print(\"The product is positive.\")\n",
        "elif a < 0 and b < 0 and c > 0:\n",
        "  print(\"The product is positive.\")\n",
        "elif a < 0 and b > 0 and c < 0:\n",
        "  print(\"The product is positive.\")\n",
        "elif a > 0 and b < 0 and c < 0:\n",
        "  print(\"The product is positive.\")\n",
        "else:\n",
        "  print(\"The product is negative.\")\n",
        "\n"
      ],
      "execution_count": 0,
      "outputs": [
        {
          "output_type": "stream",
          "text": [
            "The product is negative.\n"
          ],
          "name": "stdout"
        }
      ]
    },
    {
      "cell_type": "markdown",
      "metadata": {
        "id": "eUuhYKriVtoS",
        "colab_type": "text"
      },
      "source": [
        "\n",
        "\n",
        "### P3.PY\n",
        "\n",
        "\n"
      ]
    },
    {
      "cell_type": "code",
      "metadata": {
        "id": "gtAMAAaYVtoT",
        "colab_type": "code",
        "outputId": "e9d17c0c-1e9c-4129-fb8a-a5addefb9899",
        "colab": {
          "base_uri": "https://localhost:8080/",
          "height": 35
        }
      },
      "source": [
        "\"\"\"\n",
        "Any Uppercase\n",
        "\"\"\"\n",
        "\n",
        "# Given a string str, determine if there are any uppercase values in it. Use only conditional statements and string methods (you may have to look some up!)\n",
        "\n",
        "# EXAMPLE: str = \"teSt\", print True\n",
        "\n",
        "test = \"ransom noTe\"\n",
        "#print(test)\n",
        "if (any(c.isupper() for c in test)):\n",
        "  print(\"Yes, there's upper case in the string:\",test)\n",
        "else:\n",
        "  print(\"No, there's no upper case in the string:\",test)\n"
      ],
      "execution_count": 0,
      "outputs": [
        {
          "output_type": "stream",
          "text": [
            "Yes, there's upper case in the string: rAnsOm noTe\n"
          ],
          "name": "stdout"
        }
      ]
    },
    {
      "cell_type": "markdown",
      "metadata": {
        "id": "wG8CE6QTVtoW",
        "colab_type": "text"
      },
      "source": [
        "\n",
        "\n",
        "### P4.PY\n",
        "\n",
        "\n"
      ]
    },
    {
      "cell_type": "code",
      "metadata": {
        "id": "xZ5Mt4jSVtoX",
        "colab_type": "code",
        "outputId": "2ff6e3e0-4bb7-493a-9dc6-5e6c1606e463",
        "colab": {
          "base_uri": "https://localhost:8080/",
          "height": 70
        }
      },
      "source": [
        "\"\"\"\n",
        "Empty Strings\n",
        "\"\"\"\n",
        "\n",
        "# Given any empty string, of the form:\n",
        "\n",
        "# ''\n",
        "# ' '\n",
        "# '  '\n",
        "# any other num of spaces...\n",
        "\n",
        "# determine if the str is empty or not (print True or False). Hint: You'll need to look up how to remove trailing spaces from a string.\n",
        "\n",
        "a = '    '\n",
        "print(\"The string 'a' started with\",len(a),\"spaces.\")\n",
        "a = a.replace(' ','')\n",
        "print(\"The string 'a' ended with\",len(a),\"spaces.\")\n",
        "if len(a):\n",
        "  print(\"The string 'a' is not empty.\")\n",
        "else:\n",
        "  print(\"The string 'a' is now empty.\")"
      ],
      "execution_count": 0,
      "outputs": [
        {
          "output_type": "stream",
          "text": [
            "The string 'a' started with 4 spaces.\n",
            "The string 'a' ended with 0 spaces.\n",
            "The string 'a' is now empty.\n"
          ],
          "name": "stdout"
        }
      ]
    },
    {
      "cell_type": "markdown",
      "metadata": {
        "id": "WlgQdALoVtof",
        "colab_type": "text"
      },
      "source": [
        "\n",
        "\n",
        "### P5.PY\n",
        "\n",
        "\n"
      ]
    },
    {
      "cell_type": "code",
      "metadata": {
        "id": "7_k9rebsVtog",
        "colab_type": "code",
        "outputId": "a890469e-5536-4405-97d4-6877c0702be3",
        "colab": {
          "base_uri": "https://localhost:8080/",
          "height": 88
        }
      },
      "source": [
        "\"\"\"\n",
        "truthTableEvaluator\n",
        "\"\"\"\n",
        "\n",
        "# Given the following inputs:\n",
        "\n",
        "\n",
        "# P = # True or False\n",
        "# Q = # True or False\n",
        "\n",
        "P = False\n",
        "Q = True\n",
        "\n",
        "# op = # '^' (logical AND, conjunction)\n",
        "\n",
        "print(P and Q)\n",
        "\n",
        "#      # OR, 'v' (logical OR, disjunction)\n",
        "\n",
        "print(P or Q)\n",
        "\n",
        "#      # OR, '->' (logical conditional, implication)\n",
        "\n",
        "print(not P or Q)\n",
        "\n",
        "#      # OR, '<->' (biconditional)\n",
        "\n",
        "print((P==0) == (Q==0))\n",
        "\n",
        "# determine the correct outcome.\n",
        "\n",
        "# https://medium.com/i-math/intro-to-truth-tables-boolean-algebra-73b331dd9b94\n"
      ],
      "execution_count": 0,
      "outputs": [
        {
          "output_type": "stream",
          "text": [
            "False\n",
            "True\n",
            "True\n",
            "False\n"
          ],
          "name": "stdout"
        }
      ]
    },
    {
      "cell_type": "markdown",
      "metadata": {
        "id": "zayFQdU7Vto2",
        "colab_type": "text"
      },
      "source": [
        "## RANDOM NUMBERS\n",
        "\n",
        "\n",
        "\n",
        "\n"
      ]
    },
    {
      "cell_type": "markdown",
      "metadata": {
        "id": "gtAK4fQAV9BC",
        "colab_type": "text"
      },
      "source": [
        "### P1.PY"
      ]
    },
    {
      "cell_type": "code",
      "metadata": {
        "id": "_dlFvP4QVto3",
        "colab_type": "code",
        "outputId": "20668475-12bb-4b6f-f1b5-973e8254fdc3",
        "colab": {
          "base_uri": "https://localhost:8080/",
          "height": 52
        }
      },
      "source": [
        "\"\"\"\n",
        "Generate Traffic Light\n",
        "\"\"\"\n",
        "# import python randomint package\n",
        "from random import randint\n",
        "# generates a random number from 1 to 3\n",
        "my_guess = randint(1,3)\n",
        "print(my_guess)\n",
        "if my_guess is 2:\n",
        "  print('red')\n",
        "elif my_guess is 3:\n",
        "  print('yellow')\n",
        "#if my_guess > 1 and my_guess < 3:\n",
        "else:\n",
        "  print('green')\n",
        "\n",
        "\n",
        "# if 1, print 'red'\n",
        "# if 2, print 'green',\n",
        "# if 3, print 'yellow'\n"
      ],
      "execution_count": 0,
      "outputs": [
        {
          "output_type": "stream",
          "text": [
            "3\n",
            "yellow\n"
          ],
          "name": "stdout"
        }
      ]
    },
    {
      "cell_type": "markdown",
      "metadata": {
        "id": "nO0LSd8SVto5",
        "colab_type": "text"
      },
      "source": [
        "\n",
        "\n",
        "### P2.PY\n",
        "\n",
        "\n"
      ]
    },
    {
      "cell_type": "code",
      "metadata": {
        "id": "Dp5jFc2fVtpF",
        "colab_type": "code",
        "outputId": "aea82fb8-ab3f-4d0d-fbca-08b889bdb0a8",
        "colab": {
          "base_uri": "https://localhost:8080/",
          "height": 35
        }
      },
      "source": [
        "\"\"\"\n",
        "Generate Phone Number w/Area Code\n",
        "\"\"\"\n",
        "\n",
        "# Generate a random phone number using these SPECS:\n",
        "### Should be a string in this format: 1-718-786-2825\n",
        "### Must randomly choose one of these area codes: 646, 718, 212\n",
        "\n",
        "import random\n",
        "\n",
        "area_code_list = ['1-212','1-718','1-646']\n",
        "area_code = random.choice(area_code_list)\n",
        "phone_number = '-786-2825'\n",
        "print(area_code+phone_number)"
      ],
      "execution_count": 0,
      "outputs": [
        {
          "output_type": "stream",
          "text": [
            "1-646-786-2825\n"
          ],
          "name": "stdout"
        }
      ]
    },
    {
      "cell_type": "markdown",
      "metadata": {
        "id": "gRweE3nDVtpK",
        "colab_type": "text"
      },
      "source": [
        "## RPS\n",
        "\n",
        "\n"
      ]
    },
    {
      "cell_type": "markdown",
      "metadata": {
        "id": "IFUwrDumV_Vn",
        "colab_type": "text"
      },
      "source": [
        "### P1.PY"
      ]
    },
    {
      "cell_type": "code",
      "metadata": {
        "id": "sYTmAYzDVtpL",
        "colab_type": "code",
        "outputId": "27d47381-b5ef-45aa-d1b7-b7311b32766a",
        "colab": {
          "base_uri": "https://localhost:8080/",
          "height": 52
        }
      },
      "source": [
        "\"\"\"\n",
        "Play RPS\n",
        "\"\"\"\n",
        "\n",
        "p1 = 'r'  # or 'p' or 's'\n",
        "p2 = 'r'  # or 'p' or 's'\n",
        "\n",
        "# Given a p1 and p2\n",
        "# print 1 if p1 has won\n",
        "# print 2 if p2 has won\n",
        "# print 0 if tie\n",
        "# print -1 if invalid input\n",
        "# expects both p1 and p2 inputs to be either\n",
        "# \"r\", \"p\", or \"s\"\n",
        "\n",
        "import random\n",
        "\n",
        "RPS_List = ['rock','p','scissors']\n",
        "p1 = random.choice(RPS_List)\n",
        "p2 = random.choice(RPS_List)\n",
        "print(\"P1 chose\", p1, \"and P2 chose\",p2,\"-\")\n",
        "\n",
        "# Scenarios where it's a tie\n",
        "if p1 == 'rock' and p2 == 'rock':\n",
        "  print(\"You both chose rock. It's a tie. Try again.\")\n",
        "elif p1 == 'p' and p2 == 'p':\n",
        "  print(\"You both chose p. It's a tie. Try again.\")\n",
        "elif p1 == 'scissors' and p2 == 'scissors':\n",
        "  print(\"You both chose scissors. It's a tie. Try again.\")\n",
        "\n",
        "# Scenarios where P1 wins\n",
        "elif p1 is 'p' and p2 is 'rock':\n",
        "  print(\"p beats rock. P1 wins.\")\n",
        "elif p1 is 'rock' and p2 is 'scissors':\n",
        "  print(\"Rock beats scissors. P1 wins.\")\n",
        "elif p1 is 'scissors' and p2 is 'p':\n",
        "  print(\"Scissors beats p. P1 wins.\")\n",
        "\n",
        "# Scenarios where P2 wins\n",
        "elif p1 is 'p' and p2 is 'scissors':\n",
        "  print(\"p loses to scissors. P2 wins.\")\n",
        "elif p1 is 'rock' and p2 is 'p':\n",
        "  print(\"Rock loses to p. P2 wins.\")\n",
        "elif p1 is 'scissors' and p2 is 'rock':\n",
        "  print(\"Scissors loses to rock. P2 wins.\")"
      ],
      "execution_count": 0,
      "outputs": [
        {
          "output_type": "stream",
          "text": [
            "P1 chose scissors and P2 chose rock -\n",
            "Scissors loses to rock. P2 wins.\n"
          ],
          "name": "stdout"
        }
      ]
    },
    {
      "cell_type": "markdown",
      "metadata": {
        "id": "fp77AykMVtpN",
        "colab_type": "text"
      },
      "source": [
        "\n",
        "\n",
        "### P2.PY\n",
        "\n",
        "\n"
      ]
    },
    {
      "cell_type": "code",
      "metadata": {
        "id": "mKMaxGH8VtpO",
        "colab_type": "code",
        "outputId": "c3b3076f-a14a-4400-c35b-084b1a8fe8d1",
        "colab": {
          "base_uri": "https://localhost:8080/",
          "height": 70
        }
      },
      "source": [
        "\"\"\"\n",
        "Play RPS w/Computer\n",
        "\"\"\"\n",
        "\n",
        "import random\n",
        "\n",
        "p1 = None  # randomly choose 'r' or 'p' or 's'\n",
        "p2 = None  # randomly choose 'r' or 'p' or 's'\n",
        "\n",
        "# Given a p1 and p2\n",
        "# print 1 if p1 has won\n",
        "# print 2 if p2 has won\n",
        "# print 0 if tie\n",
        "# print -1 if invalid input\n",
        "# expects both p1 and p2 inputs to be either\n",
        "# \"r\", \"p\", or \"s\"\n",
        "\n",
        "r = 'rock'\n",
        "p = 'paper'\n",
        "s = 'scissors'\n",
        "rps = [r,p,s]\n",
        "p1 = random.choice(rps)\n",
        "p2 = random.choice(rps)\n",
        "print(f'You entered',p1)\n",
        "print(\"Your opponent entered\",p2)\n",
        "\n",
        "# Scenarios where it's a tie\n",
        "if p1 == p2:\n",
        "  print(\"It's a tie.\")\n",
        "\n",
        "# Scenarios where P1 wins\n",
        "if p1 == 'paper' and p2 == 'rock':\n",
        "  print(\"Paper beats rock. You win.\")\n",
        "elif p1 == 'rock' and p2 == 'scissors':\n",
        "  print(\"Rock beats scissors. You win.\")\n",
        "elif p1 == 'scissors' and p2 == 'paper':\n",
        "  print(\"Scissors beats paper. You win.\")\n",
        "\n",
        "# Scenarios where P2 wins\n",
        "if p1 == 'paper' and p2 == 'scissors':\n",
        "  print(\"Paper loses to scissors. Your opponent wins.\")\n",
        "elif p1 == 'rock' and p2 == 'paper':\n",
        "  print(\"Rock loses to paper. Your opponent wins.\")\n",
        "elif p1 == 'scissors' and p2 == 'rock':\n",
        "  print(\"Scissors loses to rock. Your opponent wins.\")\n"
      ],
      "execution_count": 1,
      "outputs": [
        {
          "output_type": "stream",
          "text": [
            "You entered paper\n",
            "Your opponent entered paper\n",
            "It's a tie.\n"
          ],
          "name": "stdout"
        }
      ]
    },
    {
      "cell_type": "code",
      "metadata": {
        "id": "x62f_pvtP9lb",
        "colab_type": "code",
        "colab": {}
      },
      "source": [
        ""
      ],
      "execution_count": 0,
      "outputs": []
    },
    {
      "cell_type": "markdown",
      "metadata": {
        "id": "INgOFvdoVtpU",
        "colab_type": "text"
      },
      "source": [
        "\n",
        "\n",
        "### P3.PY\n",
        "\n",
        "\n"
      ]
    },
    {
      "cell_type": "code",
      "metadata": {
        "id": "vhAAHjMSVtpV",
        "colab_type": "code",
        "outputId": "8de4df38-4c36-49eb-e1be-220bde78e476",
        "colab": {
          "base_uri": "https://localhost:8080/",
          "height": 106
        }
      },
      "source": [
        "\"\"\"\n",
        "Play RPS w/Input\n",
        "\"\"\"\n",
        "\n",
        "p1 = None  # from user input\n",
        "p2 = None  # from user input\n",
        "\n",
        "# Given a p1 and p2\n",
        "# print 1 if p1 has won\n",
        "# print 2 if p2 has won\n",
        "# print 0 if tie\n",
        "# print -1 if invalid input\n",
        "# expects both p1 and p2 inputs to be either\n",
        "# \"r\", \"p\", or \"s\"\n",
        "\n",
        "r = 'rock'\n",
        "p = 'paper'\n",
        "s = 'scissors'\n",
        "p1 = input(\"Enter rock, paper or scissors:\",)\n",
        "p2 = input(\"Your friend enters rock, paper or scissors:\",)\n",
        "print(f'You entered',p1)\n",
        "print(\"Your friend entered\",p2)\n",
        "\n",
        "# Scenarios where it's a tie\n",
        "if p1 == p2:\n",
        "  print(\"It's a tie.\")\n",
        "\n",
        "# Scenarios where P1 wins\n",
        "if p1 == 'paper' and p2 == 'rock':\n",
        "  print(\"Paper beats rock. You win.\")\n",
        "elif p1 == 'rock' and p2 == 'scissors':\n",
        "  print(\"Rock beats scissors. You win.\")\n",
        "elif p1 == 'scissors' and p2 == 'paper':\n",
        "  print(\"Scissors beats paper. You win.\")\n",
        "\n",
        "# Scenarios where P2 wins\n",
        "if p1 == 'paper' and p2 == 'scissors':\n",
        "  print(\"Paper loses to scissors. Your friend wins.\")\n",
        "elif p1 == 'rock' and p2 == 'paper':\n",
        "  print(\"Rock loses to paper. Your friend wins.\")\n",
        "elif p1 == 'scissors' and p2 == 'rock':\n",
        "  print(\"Scissors loses to rock. Your friend wins.\")\n"
      ],
      "execution_count": 13,
      "outputs": [
        {
          "output_type": "stream",
          "text": [
            "Enter rock, paper or scissors:scissors\n",
            "Your friend enters rock, paper or scissors:scissors\n",
            "You entered scissors\n",
            "Your friend entered scissors\n",
            "It's a tie.\n"
          ],
          "name": "stdout"
        }
      ]
    },
    {
      "cell_type": "markdown",
      "metadata": {
        "id": "SUqNu57OVtpY",
        "colab_type": "text"
      },
      "source": [
        "\n",
        "\n",
        "### P4.PY\n",
        "\n",
        "\n"
      ]
    },
    {
      "cell_type": "code",
      "metadata": {
        "id": "Vmlr5AqSVtpY",
        "colab_type": "code",
        "colab": {
          "base_uri": "https://localhost:8080/",
          "height": 88
        },
        "outputId": "ed9f71ef-aa0b-47d0-afdf-c40c741b5681"
      },
      "source": [
        "\"\"\"\n",
        "Play RPS against Computer\n",
        "\"\"\"\n",
        "\n",
        "p1 = None  # from user input - we still want validation from above!\n",
        "p2 = None  # randomly generated against computer\n",
        "\n",
        "# Given a p1 and p2\n",
        "# print 1 if p1 has won\n",
        "# print 2 if p2 has won\n",
        "# print 0 if tie\n",
        "# print -1 if invalid input\n",
        "# expects both p1 and p2 inputs to be either\n",
        "# \"r\", \"p\", or \"s\"\n",
        "\n",
        "r = 'rock'\n",
        "p = 'paper'\n",
        "s = 'scissors'\n",
        "rps = [r,p,s]\n",
        "p1 = input(\"Enter rock, paper or scissors:\",)\n",
        "p2 = random.choice(rps)\n",
        "print(f'You entered',p1)\n",
        "print(\"Your robot adversary entered\",p2)\n",
        "\n",
        "# Scenarios where it's a tie\n",
        "if p1 == p2:\n",
        "  print(\"It's a tie.\")\n",
        "\n",
        "# Scenarios where P1 wins\n",
        "if p1 == 'paper' and p2 == 'rock':\n",
        "  print(\"Paper beats rock. You win.\")\n",
        "elif p1 == 'rock' and p2 == 'scissors':\n",
        "  print(\"Rock beats scissors. You win.\")\n",
        "elif p1 == 'scissors' and p2 == 'paper':\n",
        "  print(\"Scissors beats paper. You win.\")\n",
        "\n",
        "# Scenarios where P2 wins\n",
        "if p1 == 'paper' and p2 == 'scissors':\n",
        "  print(\"Paper loses to scissors. Robot wins.\")\n",
        "elif p1 == 'rock' and p2 == 'paper':\n",
        "  print(\"Rock loses to paper. Robot wins.\")\n",
        "elif p1 == 'scissors' and p2 == 'rock':\n",
        "  print(\"Scissors loses to rock. Robot wins.\")\n"
      ],
      "execution_count": 17,
      "outputs": [
        {
          "output_type": "stream",
          "text": [
            "Enter rock, paper or scissors:scissors\n",
            "You entered scissors\n",
            "Your robot adversary entered rock\n",
            "Scissors loses to rock. Robot wins.\n"
          ],
          "name": "stdout"
        }
      ]
    },
    {
      "cell_type": "markdown",
      "metadata": {
        "id": "F_7aaMtoVtpt",
        "colab_type": "text"
      },
      "source": [
        "\n",
        "\n",
        "### P5.PY\n",
        "\n",
        "\n"
      ]
    },
    {
      "cell_type": "code",
      "metadata": {
        "id": "U24EGu3VVtpu",
        "colab_type": "code",
        "colab": {
          "base_uri": "https://localhost:8080/",
          "height": 124
        },
        "outputId": "2299d25c-983d-4aa6-c958-5078ef4e1248"
      },
      "source": [
        "\"\"\"\n",
        "Play RPS w/Bad Input\n",
        "\"\"\"\n",
        "\n",
        "p1 = None  # can be invalid!\n",
        "p2 = None  # can be invalid!\n",
        "\n",
        "\"\"\"\n",
        "This is the same as the original RPS problem, \n",
        "except that cannot expect the input to be valid. \n",
        "While we *want* `r` or `p` or `s`, there is a possibility \n",
        "that input can be anything like...\n",
        "\n",
        "* `ROCK` (all caps)\n",
        "* `R` (`r` but capitalized)\n",
        "* `PAPrrRR` (incorrectly spelled, upper/lowercased)\n",
        "\n",
        "Implement conditional statements that will sanitize the \n",
        "user input or let user know that input is invalid.\n",
        "\"\"\"\n",
        "\n",
        "r = 'rock'\n",
        "p = 'paper'\n",
        "s = 'scissors'\n",
        "rps = [r,p,s]\n",
        "p1 = input(\"Enter rock, paper or scissors:\",)\n",
        "while p1 not in ['rock','paper','scissors']:\n",
        "  print(\"Check what you wrote. It should be rock, paper or scissors, spelled correctly, all lower case. Try again.\")\n",
        "  p1 = input(\"Enter rock, paper or scissors:\",)\n",
        "p2 = random.choice(rps)\n",
        "print(f'You entered',p1)\n",
        "print(\"Your robot adversary entered\",p2)\n",
        "\n",
        "# Scenarios where it's a tie\n",
        "if p1 == p2:\n",
        "  print(\"It's a tie.\")\n",
        "\n",
        "# Scenarios where P1 wins\n",
        "if p1 == 'paper' and p2 == 'rock':\n",
        "  print(\"Paper beats rock. You win.\")\n",
        "elif p1 == 'rock' and p2 == 'scissors':\n",
        "  print(\"Rock beats scissors. You win.\")\n",
        "elif p1 == 'scissors' and p2 == 'paper':\n",
        "  print(\"Scissors beats paper. You win.\")\n",
        "\n",
        "# Scenarios where P2 wins\n",
        "if p1 == 'paper' and p2 == 'scissors':\n",
        "  print(\"Paper loses to scissors. Robot wins.\")\n",
        "elif p1 == 'rock' and p2 == 'paper':\n",
        "  print(\"Rock loses to paper. Robot wins.\")\n",
        "elif p1 == 'scissors' and p2 == 'rock':\n",
        "  print(\"Scissors loses to rock. Robot wins.\")\n"
      ],
      "execution_count": 19,
      "outputs": [
        {
          "output_type": "stream",
          "text": [
            "Enter rock, paper or scissors:Rock\n",
            "Check what you wrote. It should be rock, paper or scissors, spelled correctly, all lower case. Try again.\n",
            "Enter rock, paper or scissors:rock\n",
            "You entered rock\n",
            "Your robot adversary entered scissors\n",
            "Rock beats scissors. You win.\n"
          ],
          "name": "stdout"
        }
      ]
    }
  ]
}